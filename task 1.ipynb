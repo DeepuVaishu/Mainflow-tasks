{
 "cells": [
  {
   "cell_type": "code",
   "execution_count": 1,
   "id": "7b6a4258-1ea6-4e21-b450-849607650b16",
   "metadata": {},
   "outputs": [
    {
     "name": "stdout",
     "output_type": "stream",
     "text": [
      "Initial list : ['Apple,', 'Mango', 'Cherry', 1, 2, 3, True]\n",
      "Appended list: ['Apple,', 'Mango', 'Cherry', 1, 2, 3, True, 'Pineapple']\n",
      "List After removing an Element: ['Apple,', 'Mango', 'Cherry', 2, 3, True, 'Pineapple']\n",
      "Modified list: ['Apple,', 'Mango', 'Cherry', 2, 3, True, 45]\n"
     ]
    }
   ],
   "source": [
    "# LIST\n",
    "\n",
    "my_list = [\"Apple,\",\"Mango\",\"Cherry\",1,2,3,True]\n",
    "print(f\"Initial list : {my_list}\")\n",
    "\n",
    "my_list.append(\"Pineapple\") #adding an element to the list\n",
    "print(f\"Appended list: {my_list}\")\n",
    "\n",
    "my_list.remove(True) #removing an element from the list\n",
    "print(f\"List After removing an Element: {my_list}\")\n",
    "\n",
    "my_list[6]=45\n",
    "print(f\"Modified list: {my_list}\")"
   ]
  },
  {
   "cell_type": "code",
   "execution_count": 7,
   "id": "a2a1d47b-23f2-4281-ab73-19216594a431",
   "metadata": {},
   "outputs": [
    {
     "name": "stdout",
     "output_type": "stream",
     "text": [
      "Initial set: {False, 'books', 'pens', 12, 13, 14, 15}\n",
      "Appended set: {False, 'pencils', 'books', 'pens', 12, 13, 14, 15}\n",
      "Set after removing an element: {False, 'pencils', 'books', 'pens', 12, 13, 15}\n",
      "Set after modifying: {True, 12, 'pens', 'pencils', 13, 15, 'books'}\n"
     ]
    }
   ],
   "source": [
    "# SET\n",
    "\n",
    "my_set = {12,13,14,15,\"books\",\"pens\",False}\n",
    "print(\"Initial set:\", my_set)\n",
    "\n",
    "my_set.add(\"pencils\") #adding\n",
    "print(f\"Appended set: {my_set}\")\n",
    "\n",
    "my_set.remove(14)    #removing\n",
    "print(f\"Set after removing an element: {my_set}\")\n",
    "\n",
    "my_set.discard(False) #modification(we can remove and add elements to achieve modification)\n",
    "my_set.add(True)\n",
    "print(\"Set after modifying:\", my_set)"
   ]
  },
  {
   "cell_type": "code",
   "execution_count": 3,
   "id": "2c6eecb3-e63d-4479-a21c-2775d6a83252",
   "metadata": {},
   "outputs": [
    {
     "name": "stdout",
     "output_type": "stream",
     "text": [
      "Initial dictionary: {'brand': 'Ford', 'model': 'Mustang', 'year': 1964}\n",
      "Dictionary after adding new item {'brand': 'Ford', 'model': 'Mustang', 'year': 1964, 'Color': 'White'}\n",
      "Dictionary after removing one item: {'brand': 'Ford', 'model': 'Mustang', 'Color': 'White'}\n",
      "Dictionary after modification: {'brand': 'Ford', 'model': 'Mustang', 'Color': 'Maroon'}\n"
     ]
    }
   ],
   "source": [
    "# DICTIONARY\n",
    "\n",
    "thisdict = {\n",
    "  \"brand\": \"Ford\",\n",
    "  \"model\": \"Mustang\",\n",
    "  \"year\": 1964\n",
    "}\n",
    "print(\"Initial dictionary:\",thisdict) \n",
    "\n",
    "thisdict[\"Color\"] = \"White\" #adding new item\n",
    "print(\"Dictionary after adding new item\",thisdict)\n",
    "\n",
    "del thisdict[\"year\"]\n",
    "print(\"Dictionary after removing one item:\",thisdict)\n",
    "\n",
    "thisdict[\"Color\"] = \"Maroon\"\n",
    "print(\"Dictionary after modification:\",thisdict)\n"
   ]
  },
  {
   "cell_type": "code",
   "execution_count": null,
   "id": "805871f1-cb65-4865-8ade-74b54e6a5e20",
   "metadata": {},
   "outputs": [],
   "source": []
  }
 ],
 "metadata": {
  "kernelspec": {
   "display_name": "Python 3 (ipykernel)",
   "language": "python",
   "name": "python3"
  },
  "language_info": {
   "codemirror_mode": {
    "name": "ipython",
    "version": 3
   },
   "file_extension": ".py",
   "mimetype": "text/x-python",
   "name": "python",
   "nbconvert_exporter": "python",
   "pygments_lexer": "ipython3",
   "version": "3.12.4"
  }
 },
 "nbformat": 4,
 "nbformat_minor": 5
}
